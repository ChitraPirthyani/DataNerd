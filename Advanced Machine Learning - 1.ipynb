{
 "cells": [
  {
   "cell_type": "markdown",
   "metadata": {},
   "source": [
    "# Advanced Machine learning - Breast Cancer Data\n"
   ]
  },
  {
   "cell_type": "code",
   "execution_count": 7,
   "metadata": {},
   "outputs": [],
   "source": [
    "import pandas as pd\n",
    "url = \"http://archive.ics.uci.edu/ml/machine-learning-databases/breast-cancer-wisconsin/wdbc.data\"\n",
    "\n",
    "df = pd.read_csv(url,sep=\",\", header=None, index_col=None)"
   ]
  },
  {
   "cell_type": "code",
   "execution_count": 8,
   "metadata": {},
   "outputs": [
    {
     "data": {
      "text/plain": [
       "(569, 32)"
      ]
     },
     "execution_count": 8,
     "metadata": {},
     "output_type": "execute_result"
    }
   ],
   "source": [
    "df.shape"
   ]
  },
  {
   "cell_type": "code",
   "execution_count": 9,
   "metadata": {},
   "outputs": [
    {
     "data": {
      "text/plain": [
       "(569, 31)"
      ]
     },
     "execution_count": 9,
     "metadata": {},
     "output_type": "execute_result"
    }
   ],
   "source": [
    "# dropping the ID variable as it is irrelavant\n",
    "df1= df.drop(df.index[0],axis=1)\n",
    "df1.shape"
   ]
  },
  {
   "cell_type": "code",
   "execution_count": 10,
   "metadata": {
    "scrolled": true
   },
   "outputs": [
    {
     "data": {
      "text/html": [
       "<div>\n",
       "<style scoped>\n",
       "    .dataframe tbody tr th:only-of-type {\n",
       "        vertical-align: middle;\n",
       "    }\n",
       "\n",
       "    .dataframe tbody tr th {\n",
       "        vertical-align: top;\n",
       "    }\n",
       "\n",
       "    .dataframe thead th {\n",
       "        text-align: right;\n",
       "    }\n",
       "</style>\n",
       "<table border=\"1\" class=\"dataframe\">\n",
       "  <thead>\n",
       "    <tr style=\"text-align: right;\">\n",
       "      <th></th>\n",
       "      <th>1</th>\n",
       "      <th>2</th>\n",
       "      <th>3</th>\n",
       "      <th>4</th>\n",
       "      <th>5</th>\n",
       "      <th>6</th>\n",
       "      <th>7</th>\n",
       "      <th>8</th>\n",
       "      <th>9</th>\n",
       "      <th>10</th>\n",
       "      <th>...</th>\n",
       "      <th>22</th>\n",
       "      <th>23</th>\n",
       "      <th>24</th>\n",
       "      <th>25</th>\n",
       "      <th>26</th>\n",
       "      <th>27</th>\n",
       "      <th>28</th>\n",
       "      <th>29</th>\n",
       "      <th>30</th>\n",
       "      <th>31</th>\n",
       "    </tr>\n",
       "  </thead>\n",
       "  <tbody>\n",
       "    <tr>\n",
       "      <th>0</th>\n",
       "      <td>M</td>\n",
       "      <td>17.99</td>\n",
       "      <td>10.38</td>\n",
       "      <td>122.80</td>\n",
       "      <td>1001.0</td>\n",
       "      <td>0.11840</td>\n",
       "      <td>0.27760</td>\n",
       "      <td>0.3001</td>\n",
       "      <td>0.14710</td>\n",
       "      <td>0.2419</td>\n",
       "      <td>...</td>\n",
       "      <td>25.38</td>\n",
       "      <td>17.33</td>\n",
       "      <td>184.60</td>\n",
       "      <td>2019.0</td>\n",
       "      <td>0.1622</td>\n",
       "      <td>0.6656</td>\n",
       "      <td>0.7119</td>\n",
       "      <td>0.2654</td>\n",
       "      <td>0.4601</td>\n",
       "      <td>0.11890</td>\n",
       "    </tr>\n",
       "    <tr>\n",
       "      <th>1</th>\n",
       "      <td>M</td>\n",
       "      <td>20.57</td>\n",
       "      <td>17.77</td>\n",
       "      <td>132.90</td>\n",
       "      <td>1326.0</td>\n",
       "      <td>0.08474</td>\n",
       "      <td>0.07864</td>\n",
       "      <td>0.0869</td>\n",
       "      <td>0.07017</td>\n",
       "      <td>0.1812</td>\n",
       "      <td>...</td>\n",
       "      <td>24.99</td>\n",
       "      <td>23.41</td>\n",
       "      <td>158.80</td>\n",
       "      <td>1956.0</td>\n",
       "      <td>0.1238</td>\n",
       "      <td>0.1866</td>\n",
       "      <td>0.2416</td>\n",
       "      <td>0.1860</td>\n",
       "      <td>0.2750</td>\n",
       "      <td>0.08902</td>\n",
       "    </tr>\n",
       "    <tr>\n",
       "      <th>2</th>\n",
       "      <td>M</td>\n",
       "      <td>19.69</td>\n",
       "      <td>21.25</td>\n",
       "      <td>130.00</td>\n",
       "      <td>1203.0</td>\n",
       "      <td>0.10960</td>\n",
       "      <td>0.15990</td>\n",
       "      <td>0.1974</td>\n",
       "      <td>0.12790</td>\n",
       "      <td>0.2069</td>\n",
       "      <td>...</td>\n",
       "      <td>23.57</td>\n",
       "      <td>25.53</td>\n",
       "      <td>152.50</td>\n",
       "      <td>1709.0</td>\n",
       "      <td>0.1444</td>\n",
       "      <td>0.4245</td>\n",
       "      <td>0.4504</td>\n",
       "      <td>0.2430</td>\n",
       "      <td>0.3613</td>\n",
       "      <td>0.08758</td>\n",
       "    </tr>\n",
       "    <tr>\n",
       "      <th>3</th>\n",
       "      <td>M</td>\n",
       "      <td>11.42</td>\n",
       "      <td>20.38</td>\n",
       "      <td>77.58</td>\n",
       "      <td>386.1</td>\n",
       "      <td>0.14250</td>\n",
       "      <td>0.28390</td>\n",
       "      <td>0.2414</td>\n",
       "      <td>0.10520</td>\n",
       "      <td>0.2597</td>\n",
       "      <td>...</td>\n",
       "      <td>14.91</td>\n",
       "      <td>26.50</td>\n",
       "      <td>98.87</td>\n",
       "      <td>567.7</td>\n",
       "      <td>0.2098</td>\n",
       "      <td>0.8663</td>\n",
       "      <td>0.6869</td>\n",
       "      <td>0.2575</td>\n",
       "      <td>0.6638</td>\n",
       "      <td>0.17300</td>\n",
       "    </tr>\n",
       "    <tr>\n",
       "      <th>4</th>\n",
       "      <td>M</td>\n",
       "      <td>20.29</td>\n",
       "      <td>14.34</td>\n",
       "      <td>135.10</td>\n",
       "      <td>1297.0</td>\n",
       "      <td>0.10030</td>\n",
       "      <td>0.13280</td>\n",
       "      <td>0.1980</td>\n",
       "      <td>0.10430</td>\n",
       "      <td>0.1809</td>\n",
       "      <td>...</td>\n",
       "      <td>22.54</td>\n",
       "      <td>16.67</td>\n",
       "      <td>152.20</td>\n",
       "      <td>1575.0</td>\n",
       "      <td>0.1374</td>\n",
       "      <td>0.2050</td>\n",
       "      <td>0.4000</td>\n",
       "      <td>0.1625</td>\n",
       "      <td>0.2364</td>\n",
       "      <td>0.07678</td>\n",
       "    </tr>\n",
       "  </tbody>\n",
       "</table>\n",
       "<p>5 rows × 31 columns</p>\n",
       "</div>"
      ],
      "text/plain": [
       "  1      2      3       4       5        6        7       8        9       10  \\\n",
       "0  M  17.99  10.38  122.80  1001.0  0.11840  0.27760  0.3001  0.14710  0.2419   \n",
       "1  M  20.57  17.77  132.90  1326.0  0.08474  0.07864  0.0869  0.07017  0.1812   \n",
       "2  M  19.69  21.25  130.00  1203.0  0.10960  0.15990  0.1974  0.12790  0.2069   \n",
       "3  M  11.42  20.38   77.58   386.1  0.14250  0.28390  0.2414  0.10520  0.2597   \n",
       "4  M  20.29  14.34  135.10  1297.0  0.10030  0.13280  0.1980  0.10430  0.1809   \n",
       "\n",
       "   ...     22     23      24      25      26      27      28      29      30  \\\n",
       "0  ...  25.38  17.33  184.60  2019.0  0.1622  0.6656  0.7119  0.2654  0.4601   \n",
       "1  ...  24.99  23.41  158.80  1956.0  0.1238  0.1866  0.2416  0.1860  0.2750   \n",
       "2  ...  23.57  25.53  152.50  1709.0  0.1444  0.4245  0.4504  0.2430  0.3613   \n",
       "3  ...  14.91  26.50   98.87   567.7  0.2098  0.8663  0.6869  0.2575  0.6638   \n",
       "4  ...  22.54  16.67  152.20  1575.0  0.1374  0.2050  0.4000  0.1625  0.2364   \n",
       "\n",
       "        31  \n",
       "0  0.11890  \n",
       "1  0.08902  \n",
       "2  0.08758  \n",
       "3  0.17300  \n",
       "4  0.07678  \n",
       "\n",
       "[5 rows x 31 columns]"
      ]
     },
     "execution_count": 10,
     "metadata": {},
     "output_type": "execute_result"
    }
   ],
   "source": [
    "df1.head()"
   ]
  },
  {
   "cell_type": "code",
   "execution_count": 11,
   "metadata": {},
   "outputs": [],
   "source": [
    "import numpy as np\n",
    "import matplotlib.pyplot as plt\n",
    "from sklearn.preprocessing import LabelEncoder"
   ]
  },
  {
   "cell_type": "code",
   "execution_count": 12,
   "metadata": {},
   "outputs": [],
   "source": [
    "# Converting the Y labels to 0 and 1.\n",
    "lb= LabelEncoder()\n",
    "df1[df1.columns[0]] = lb.fit_transform(df1[df1.columns[0]])\n",
    "\n",
    "numeric_data = df1[df1.columns[1:31]]\n",
    "target_data = df1[df1.columns[0]]\n"
   ]
  },
  {
   "cell_type": "markdown",
   "metadata": {},
   "source": [
    "# Pre-processing"
   ]
  },
  {
   "cell_type": "code",
   "execution_count": 299,
   "metadata": {},
   "outputs": [
    {
     "name": "stderr",
     "output_type": "stream",
     "text": [
      "19:00:34: Thread 0: starting\n",
      "19:00:34: Thread 1: starting\n",
      "19:00:34: Thread 2: starting\n"
     ]
    },
    {
     "name": "stdout",
     "output_type": "stream",
     "text": [
      "original mean: 4999.5\n",
      "resampled mean: 4971.353\n"
     ]
    },
    {
     "name": "stderr",
     "output_type": "stream",
     "text": [
      "19:00:34: Thread 3: starting\n",
      "19:00:34: Thread 4: starting\n",
      "19:00:34: Thread 5: starting\n",
      "19:00:34: Thread 6: starting\n",
      "19:00:34: Thread 7: starting\n",
      "19:00:34: Thread 8: starting\n",
      "19:00:34: Thread 9: starting\n",
      "19:00:35: Thread 0: finishing\n",
      "19:00:36: Thread 1: finishing\n",
      "19:00:36: Thread 2: finishing\n",
      "19:00:36: Thread 3: finishing\n",
      "19:00:36: Thread 5: finishing\n",
      "19:00:36: Thread 4: finishing\n",
      "19:00:36: Thread 7: finishing\n",
      "19:00:36: Thread 6: finishing\n",
      "19:00:36: Thread 9: finishing\n",
      "19:00:36: Thread 8: finishing\n"
     ]
    }
   ],
   "source": [
    "raw = df1.to_numpy()\n",
    "def my_function(name):\n",
    "    logging.info(\"Thread %s: starting\", name)\n",
    "    for _ in range(100):\n",
    "        randnums = np.random.randint(0,569,569)\n",
    "        bootstrap.append(df1.iloc[randnums])\n",
    "    logging.info(\"Thread %s: finishing\", name)\n",
    "\n",
    "threads = 10\n",
    "format = \"%(asctime)s: %(message)s\"\n",
    "logging.basicConfig(format=format, level=logging.INFO, datefmt=\"%H:%M:%S\")\n",
    "# multithread function\n",
    "for i in range (0,threads):\n",
    "    a=threading.Thread(target=my_function, args=(i,))\n",
    "    a.start()\n",
    "    \n",
    "def bootstrap_resample(raw, n=None):\n",
    "    \n",
    "    if n==None:\n",
    "        n= len(raw)\n",
    "        \n",
    "    resample_i = np.floor(np.random.rand(n)*len(raw)).astype(int)\n",
    "    raw_resample = raw[resample_i]\n",
    "    return raw_resample\n",
    "\n",
    "\n",
    "raw = np.arange(10000)\n",
    "raw_resample = bootstrap_resample(raw, n=1000)\n",
    "print ('original mean:', raw.mean())\n",
    "print ('resampled mean:', raw_resample.mean())\n",
    "\n",
    "\n",
    "\n",
    "\n"
   ]
  },
  {
   "cell_type": "code",
   "execution_count": 13,
   "metadata": {},
   "outputs": [
    {
     "data": {
      "text/plain": [
       "0    357\n",
       "1    212\n",
       "Name: 1, dtype: int64"
      ]
     },
     "execution_count": 13,
     "metadata": {},
     "output_type": "execute_result"
    }
   ],
   "source": [
    "# Checking if data is balanced\n",
    "target_data.value_counts()"
   ]
  },
  {
   "cell_type": "code",
   "execution_count": 14,
   "metadata": {},
   "outputs": [
    {
     "data": {
      "text/plain": [
       "(168, 31)"
      ]
     },
     "execution_count": 14,
     "metadata": {},
     "output_type": "execute_result"
    }
   ],
   "source": [
    "#Test and Train split\n",
    "\n",
    "train = df1.loc[0:400]\n",
    "train.shape\n",
    "\n",
    "test = df1.loc[401:]\n",
    "test.shape\n"
   ]
  },
  {
   "cell_type": "code",
   "execution_count": 15,
   "metadata": {},
   "outputs": [],
   "source": [
    "# spliting target\n",
    "x_train = train[train.columns[1:31]]\n",
    "y_train = train[1]\n",
    "\n",
    "x_test = test[test.columns[1:31]]\n",
    "y_test = test[1]"
   ]
  },
  {
   "cell_type": "markdown",
   "metadata": {},
   "source": [
    "# Random Forest\n"
   ]
  },
  {
   "cell_type": "code",
   "execution_count": 193,
   "metadata": {},
   "outputs": [],
   "source": [
    "from sklearn.ensemble import RandomForestClassifier\n",
    "# Random Forest Model\n",
    "\n",
    "model = RandomForestClassifier(n_estimators=100, bootstrap=True, max_features= 'sqrt')\n",
    "\n",
    "# Train model \n",
    "\n",
    "model.fit( x_train, y_train)\n",
    "\n",
    "y_pred = model.predict(x_test)"
   ]
  },
  {
   "cell_type": "code",
   "execution_count": 195,
   "metadata": {},
   "outputs": [
    {
     "name": "stdout",
     "output_type": "stream",
     "text": [
      "Accuracy: 0.9523809523809523\n"
     ]
    }
   ],
   "source": [
    "from sklearn import metrics\n",
    "\n",
    "# model accuracy\n",
    "\n",
    "print(\"Accuracy:\", metrics.accuracy_score(y_test, y_pred))\n"
   ]
  },
  {
   "cell_type": "code",
   "execution_count": 21,
   "metadata": {},
   "outputs": [],
   "source": [
    "from pprint import pprint\n",
    "from sklearn.model_selection import GridSearchCV"
   ]
  },
  {
   "cell_type": "code",
   "execution_count": 132,
   "metadata": {},
   "outputs": [],
   "source": [
    "# Grid Search to ascertain hyperplane\n",
    "\n",
    "# Setting tuned parameters for param_grid\n",
    "parameters = {\n",
    "    'bootstrap': [True],\n",
    "    'max_depth': [2,5,10],\n",
    "    'max_features': ['auto', 'sqrt'],\n",
    "    'min_samples_split': [2,3,5],\n",
    "    'n_estimators': [100,110,120,200,300,400]\n",
    "}"
   ]
  },
  {
   "cell_type": "code",
   "execution_count": 133,
   "metadata": {},
   "outputs": [
    {
     "name": "stdout",
     "output_type": "stream",
     "text": [
      "Fitting 3 folds for each of 108 candidates, totalling 324 fits\n"
     ]
    },
    {
     "name": "stderr",
     "output_type": "stream",
     "text": [
      "[Parallel(n_jobs=-1)]: Using backend LokyBackend with 4 concurrent workers.\n",
      "[Parallel(n_jobs=-1)]: Done  42 tasks      | elapsed:   14.3s\n",
      "[Parallel(n_jobs=-1)]: Done 192 tasks      | elapsed:   51.6s\n",
      "[Parallel(n_jobs=-1)]: Done 324 out of 324 | elapsed:  1.4min finished\n"
     ]
    },
    {
     "name": "stdout",
     "output_type": "stream",
     "text": [
      "The best parameters are:\n",
      " {'bootstrap': True, 'max_depth': 5, 'max_features': 'auto', 'min_samples_split': 3, 'n_estimators': 110}\n"
     ]
    }
   ],
   "source": [
    "grid_search = GridSearchCV(estimator= model, param_grid= parameters, cv= 3, n_jobs= -1, verbose= True)\n",
    "\n",
    "grid_search.fit(x_train, y_train)\n",
    "\n",
    "#Checking the best parameters.\n",
    "print('The best parameters are:\\n',grid_search.best_params_)"
   ]
  },
  {
   "cell_type": "code",
   "execution_count": 185,
   "metadata": {},
   "outputs": [
    {
     "name": "stdout",
     "output_type": "stream",
     "text": [
      "Accuracy: 0.9702380952380952\n",
      "We can see that accuracy increases by applying the parameters optimized by the grid search\n"
     ]
    }
   ],
   "source": [
    "# Grid Search Model\n",
    "\n",
    "Gridmodel = RandomForestClassifier(n_estimators=110, bootstrap=True, max_features= 'sqrt', max_depth=5, min_samples_split=3)\n",
    "\n",
    "# Train model \n",
    "\n",
    "Gridmodel.fit( x_train, y_train)\n",
    "\n",
    "y_pred1 = Gridmodel.predict(x_test)\n",
    "\n",
    "from sklearn import metrics\n",
    "\n",
    "# model accuracy\n",
    "\n",
    "print(\"Accuracy:\", metrics.accuracy_score(y_test, y_pred1))\n",
    "\n",
    "print(\"We can see that accuracy increases by applying the parameters optimized by the grid search\")"
   ]
  },
  {
   "cell_type": "code",
   "execution_count": 127,
   "metadata": {},
   "outputs": [],
   "source": [
    "import matplotlib.pyplot as plt\n",
    "from collections import OrderedDict\n",
    "RANDOM_STATE= 2020\n"
   ]
  },
  {
   "cell_type": "code",
   "execution_count": 128,
   "metadata": {},
   "outputs": [],
   "source": [
    "# Random forest OOB\n",
    "\n",
    "RandomEn = [\n",
    "    (\"RandomForest, max_features='sqrt'\",\n",
    "        RandomForestClassifier(warm_start=True, oob_score=True,\n",
    "                               max_features=\"sqrt\",\n",
    "                               random_state=RANDOM_STATE))\n",
    "    ]"
   ]
  },
  {
   "cell_type": "code",
   "execution_count": 129,
   "metadata": {},
   "outputs": [],
   "source": [
    "error_rate = OrderedDict((label, []) for label, _ in RandomEn)"
   ]
  },
  {
   "cell_type": "code",
   "execution_count": 130,
   "metadata": {},
   "outputs": [],
   "source": [
    "# Range of `n_estimators` values to explore.\n",
    "min_estimators = 100\n",
    "max_estimators = 300\n",
    "\n",
    "for label, clf in RandomEn:\n",
    "    for i in range(min_estimators, max_estimators + 1):\n",
    "        clf.set_params(n_estimators=i)\n",
    "        clf.fit(x_train, y_train)\n",
    "\n",
    "        # Record the OOB error for each `n_estimators=i` setting.\n",
    "        oob_error = 1 - clf.oob_score_\n",
    "        error_rate[label].append((i, oob_error))"
   ]
  },
  {
   "cell_type": "code",
   "execution_count": 140,
   "metadata": {
    "scrolled": true
   },
   "outputs": [
    {
     "data": {
      "image/png": "[encoded data removed]",
      "text/plain": [
       "<Figure size 432x288 with 1 Axes>"
      ]
     },
     "metadata": {
      "needs_background": "light"
     },
     "output_type": "display_data"
    },
    {
     "name": "stdout",
     "output_type": "stream",
     "text": [
      "As we can see, the OOB rate is lowest between 100-120 estimators. The grid search selected 110 as the optimal number of trees. Therefore we can say that the results from both match.\n"
     ]
    }
   ],
   "source": [
    "# Generate the \"OOB error rate\" vs. \"n_estimators\" plot.\n",
    "for label, clf_err in error_rate.items():\n",
    "    xs, ys = zip(*clf_err)\n",
    "    plt.plot(xs, ys, label=label)\n",
    "\n",
    "plt.xlim(min_estimators, max_estimators)\n",
    "plt.xlabel(\"n_estimators\")\n",
    "plt.ylabel(\"OOB error rate\")\n",
    "plt.show()\n",
    "\n",
    "print(\"As we can see, the OOB rate is lowest between 100-120 estimators. The grid search selected 110 as the optimal number of trees. Therefore we can say that the results from both match.\")"
   ]
  },
  {
   "cell_type": "markdown",
   "metadata": {},
   "source": [
    "# Gradient Boosting"
   ]
  },
  {
   "cell_type": "code",
   "execution_count": 200,
   "metadata": {},
   "outputs": [
    {
     "name": "stdout",
     "output_type": "stream",
     "text": [
      "Accuracy: 0.9642857142857143\n"
     ]
    }
   ],
   "source": [
    "## Problem 3\n",
    "\n",
    "## Gradient Boosting\n",
    "\n",
    "from sklearn.ensemble import GradientBoostingClassifier\n",
    "\n",
    "GradientModel = GradientBoostingClassifier()\n",
    "\n",
    "# Train model \n",
    "\n",
    "GradientModel.fit( x_train, y_train)\n",
    "\n",
    "y_predGB = GradientModel.predict(x_test)\n",
    "\n",
    "from sklearn import metrics\n",
    "\n",
    "# model accuracy\n",
    "\n",
    "print(\"Accuracy:\", metrics.accuracy_score(y_test, y_predGB))\n"
   ]
  },
  {
   "cell_type": "code",
   "execution_count": 154,
   "metadata": {},
   "outputs": [
    {
     "name": "stdout",
     "output_type": "stream",
     "text": [
      "Fitting 3 folds for each of 30 candidates, totalling 90 fits\n"
     ]
    },
    {
     "name": "stderr",
     "output_type": "stream",
     "text": [
      "[Parallel(n_jobs=-1)]: Using backend LokyBackend with 4 concurrent workers.\n",
      "[Parallel(n_jobs=-1)]: Done  42 tasks      | elapsed:   13.4s\n",
      "[Parallel(n_jobs=-1)]: Done  90 out of  90 | elapsed:   20.1s finished\n"
     ]
    },
    {
     "data": {
      "text/plain": [
       "{'max_depth': 2, 'n_estimators': 300}"
      ]
     },
     "execution_count": 154,
     "metadata": {},
     "output_type": "execute_result"
    }
   ],
   "source": [
    "## Grid Search\n",
    "\n",
    "Gparameters ={\n",
    "    'max_depth': [2,3,4,5,10],\n",
    "    'n_estimators': [50,70,100,200,300,400]\n",
    "}\n",
    "\n",
    "\n",
    "\n",
    "grid_searchGB = GridSearchCV(estimator= GradientModel, param_grid= Gparameters, cv= 3, n_jobs= -1, verbose= True)\n",
    "\n",
    "\n",
    "grid_searchGB.fit(x_train, y_train)\n",
    "\n",
    "grid_searchGB.best_params_\n"
   ]
  },
  {
   "cell_type": "code",
   "execution_count": 199,
   "metadata": {},
   "outputs": [
    {
     "name": "stdout",
     "output_type": "stream",
     "text": [
      "Accuracy: 0.9702380952380952\n"
     ]
    }
   ],
   "source": [
    "# Grid Search Model using parameters from search\n",
    "\n",
    "GridmodelGB = GradientBoostingClassifier(n_estimators=300, max_depth=2)\n",
    "\n",
    "# Train model \n",
    "\n",
    "GridmodelGB.fit( x_train, y_train)\n",
    "\n",
    "y_predGB1 = GridmodelGB.predict(x_test)\n",
    "\n",
    "from sklearn import metrics\n",
    "\n",
    "# model accuracy\n",
    "\n",
    "print(\"Accuracy:\", metrics.accuracy_score(y_test, y_predGB1))"
   ]
  },
  {
   "cell_type": "code",
   "execution_count": 275,
   "metadata": {},
   "outputs": [
    {
     "name": "stdout",
     "output_type": "stream",
     "text": [
      "Accuracy: 0.9702380952380952\n",
      "Applying regularization, (learning_rate < 0.1),adds a penalty to the model and increases the accuracy\n"
     ]
    }
   ],
   "source": [
    "# Regularization on the model\n",
    "\n",
    "GridmodelGB1 = GradientBoostingClassifier(n_estimators=400, max_depth=2, learning_rate= 0.05)\n",
    "\n",
    "# Train model \n",
    "\n",
    "GridmodelGB1.fit( x_train, y_train)\n",
    "\n",
    "y_predGB2 = GridmodelGB1.predict(x_test)\n",
    "\n",
    "from sklearn import metrics\n",
    "\n",
    "# model accuracy\n",
    "\n",
    "print(\"Accuracy:\", metrics.accuracy_score(y_test, y_predGB1))\n",
    "print(\"Applying regularization, (learning_rate < 0.1),adds a penalty to the model and increases the accuracy\")"
   ]
  },
  {
   "cell_type": "markdown",
   "metadata": {},
   "source": [
    "# ROC and Precision Recall Curves"
   ]
  },
  {
   "cell_type": "code",
   "execution_count": 160,
   "metadata": {},
   "outputs": [],
   "source": [
    "from sklearn.datasets import make_classification    \n",
    "from sklearn.model_selection import train_test_split  \n",
    "from sklearn.metrics import roc_curve\n",
    "from sklearn.metrics import plot_roc_curve\n",
    "from sklearn.metrics import precision_recall_curve\n",
    "from sklearn.metrics import plot_precision_recall_curve\n"
   ]
  },
  {
   "cell_type": "code",
   "execution_count": 166,
   "metadata": {},
   "outputs": [
    {
     "data": {
      "image/png": "[encoded data removed]",
      "text/plain": [
       "<Figure size 432x288 with 1 Axes>"
      ]
     },
     "metadata": {
      "needs_background": "light"
     },
     "output_type": "display_data"
    }
   ],
   "source": [
    "# Roc curve for Random Forest model\n",
    "from sklearn.metrics import plot_roc_curve\n",
    "plot_roc_curve(model, x_test, y_test, alpha=0.8, label= \"ROC\")\n",
    "plt.title(label=\"Random Forest-ROC Curve\")\n",
    "plt.show()"
   ]
  },
  {
   "cell_type": "code",
   "execution_count": 167,
   "metadata": {},
   "outputs": [
    {
     "data": {
      "image/png": "[encoded data removed]",
      "text/plain": [
       "<Figure size 432x288 with 1 Axes>"
      ]
     },
     "metadata": {
      "needs_background": "light"
     },
     "output_type": "display_data"
    }
   ],
   "source": [
    "# Roc curve for GridSearch-Random Forest model\n",
    "from sklearn.metrics import plot_roc_curve\n",
    "plot_roc_curve(Gridmodel, x_test, y_test, alpha=0.8, label= \"ROC\")\n",
    "plt.title(label=\"GridSearch-Random Forest-ROC Curve\")\n",
    "plt.show()\n"
   ]
  },
  {
   "cell_type": "code",
   "execution_count": 169,
   "metadata": {},
   "outputs": [
    {
     "data": {
      "image/png": "[encoded data removed]",
      "text/plain": [
       "<Figure size 432x288 with 1 Axes>"
      ]
     },
     "metadata": {
      "needs_background": "light"
     },
     "output_type": "display_data"
    }
   ],
   "source": [
    "# Roc curve for  Gradient Boosting model\n",
    "from sklearn.metrics import plot_roc_curve\n",
    "plot_roc_curve(GradientModel, x_test, y_test, alpha=0.8, label= \"ROC\")\n",
    "plt.title(label=\"GradientBoosting-ROC Curve\")\n",
    "plt.show()"
   ]
  },
  {
   "cell_type": "code",
   "execution_count": 170,
   "metadata": {
    "scrolled": true
   },
   "outputs": [
    {
     "data": {
      "image/png": "[encoded data removed]",
      "text/plain": [
       "<Figure size 432x288 with 1 Axes>"
      ]
     },
     "metadata": {
      "needs_background": "light"
     },
     "output_type": "display_data"
    }
   ],
   "source": [
    "# Roc curve for GridSearch Gradient Boosting model\n",
    "from sklearn.metrics import plot_roc_curve\n",
    "plot_roc_curve(GridmodelGB, x_test, y_test, alpha=0.8, label= \"ROC\")\n",
    "plt.title(label=\"GridSearch-GradientBoosting-ROC Curve\")\n",
    "plt.show()"
   ]
  },
  {
   "cell_type": "code",
   "execution_count": 171,
   "metadata": {},
   "outputs": [
    {
     "data": {
      "image/png": "[encoded data removed]",
      "text/plain": [
       "<Figure size 432x288 with 1 Axes>"
      ]
     },
     "metadata": {
      "needs_background": "light"
     },
     "output_type": "display_data"
    }
   ],
   "source": [
    "## Precision recall curve for GridSearch-Random Forest \n",
    "plot_precision_recall_curve(Gridmodel, x_test, y_test, label=\"Precision Recall Curve\")\n",
    "plt.title(label=\"GridSearch-Random Forest-Precision Recall Curve\")\n",
    "plt.show()"
   ]
  },
  {
   "cell_type": "code",
   "execution_count": 172,
   "metadata": {},
   "outputs": [
    {
     "data": {
      "image/png": "[encoded data removed]",
      "text/plain": [
       "<Figure size 432x288 with 1 Axes>"
      ]
     },
     "metadata": {
      "needs_background": "light"
     },
     "output_type": "display_data"
    }
   ],
   "source": [
    "## Precision recall curve for GridSearch-Gradient Boosting\n",
    "plot_precision_recall_curve(GridmodelGB, x_test, y_test, label=\"Precision Recall Curve\")\n",
    "plt.title(label=\"GridSearch-Gradient Bossting-Precision Recall Curve\")\n",
    "plt.show()"
   ]
  },
  {
   "cell_type": "code",
   "execution_count": 173,
   "metadata": {},
   "outputs": [],
   "source": [
    "from sklearn.metrics import classification_report, confusion_matrix"
   ]
  },
  {
   "cell_type": "code",
   "execution_count": 196,
   "metadata": {},
   "outputs": [
    {
     "name": "stdout",
     "output_type": "stream",
     "text": [
      "Confusion Matrix:\n",
      " [[123   7]\n",
      " [  1  37]]\n",
      "Model Diagnostics:               precision    recall  f1-score   support\n",
      "\n",
      "           0       0.99      0.95      0.97       130\n",
      "           1       0.84      0.97      0.90        38\n",
      "\n",
      "    accuracy                           0.95       168\n",
      "   macro avg       0.92      0.96      0.94       168\n",
      "weighted avg       0.96      0.95      0.95       168\n",
      "\n",
      "Accuracy: 0.9523809523809523\n"
     ]
    }
   ],
   "source": [
    "# Confusion Matrix - Random Forest\n",
    "print(\"Confusion Matrix:\\n\",confusion_matrix(y_test, y_pred))\n",
    "print(\"Model Diagnostics:\",classification_report(y_test, y_pred))\n",
    "\n",
    "print(\"Accuracy:\", metrics.accuracy_score(y_test, y_pred))"
   ]
  },
  {
   "cell_type": "code",
   "execution_count": 192,
   "metadata": {},
   "outputs": [
    {
     "name": "stdout",
     "output_type": "stream",
     "text": [
      "Confusion Matrix:\n",
      " [[126   4]\n",
      " [  1  37]]\n",
      "Model Diagnostics:               precision    recall  f1-score   support\n",
      "\n",
      "           0       0.99      0.97      0.98       130\n",
      "           1       0.90      0.97      0.94        38\n",
      "\n",
      "    accuracy                           0.97       168\n",
      "   macro avg       0.95      0.97      0.96       168\n",
      "weighted avg       0.97      0.97      0.97       168\n",
      "\n",
      "Accuracy: 0.9702380952380952\n"
     ]
    }
   ],
   "source": [
    "# Confusion Matrix - Random Forest Through GridSearch\n",
    "print(\"Confusion Matrix:\\n\",confusion_matrix(y_test, y_pred1))\n",
    "print(\"Model Diagnostics:\",classification_report(y_test, y_pred1))\n",
    "\n",
    "print(\"Accuracy:\", metrics.accuracy_score(y_test, y_pred1))"
   ]
  },
  {
   "cell_type": "code",
   "execution_count": 201,
   "metadata": {},
   "outputs": [
    {
     "name": "stdout",
     "output_type": "stream",
     "text": [
      "Confusion Matrix:\n",
      " [[125   5]\n",
      " [  1  37]]\n",
      "Model Diagnostics:               precision    recall  f1-score   support\n",
      "\n",
      "           0       0.99      0.96      0.98       130\n",
      "           1       0.88      0.97      0.93        38\n",
      "\n",
      "    accuracy                           0.96       168\n",
      "   macro avg       0.94      0.97      0.95       168\n",
      "weighted avg       0.97      0.96      0.96       168\n",
      "\n",
      "Accuracy: 0.9642857142857143\n"
     ]
    }
   ],
   "source": [
    "# Confusion Matrix - Gradient Boosting\n",
    "print(\"Confusion Matrix:\\n\",confusion_matrix(y_test, y_predGB))\n",
    "print(\"Model Diagnostics:\",classification_report(y_test, y_predGB))\n",
    "\n",
    "print(\"Accuracy:\", metrics.accuracy_score(y_test, y_predGB))"
   ]
  },
  {
   "cell_type": "code",
   "execution_count": 258,
   "metadata": {
    "scrolled": true
   },
   "outputs": [
    {
     "name": "stdout",
     "output_type": "stream",
     "text": [
      "Confusion Matrix:\n",
      " [[126   4]\n",
      " [  1  37]]\n",
      "Model Diagnostics:               precision    recall  f1-score   support\n",
      "\n",
      "           0       0.99      0.97      0.98       130\n",
      "           1       0.90      0.97      0.94        38\n",
      "\n",
      "    accuracy                           0.97       168\n",
      "   macro avg       0.95      0.97      0.96       168\n",
      "weighted avg       0.97      0.97      0.97       168\n",
      "\n",
      "Accuracy: 0.9702380952380952\n"
     ]
    }
   ],
   "source": [
    "# Confusion Matrix - Gradient Boosting through GridSearch\n",
    "print(\"Confusion Matrix:\\n\",confusion_matrix(y_test, y_predGB1))\n",
    "print(\"Model Diagnostics:\",classification_report(y_test, y_predGB1))\n",
    "\n",
    "print(\"Accuracy:\", metrics.accuracy_score(y_test, y_predGB1))"
   ]
  },
  {
   "cell_type": "code",
   "execution_count": 256,
   "metadata": {
    "scrolled": true
   },
   "outputs": [
    {
     "name": "stdout",
     "output_type": "stream",
     "text": [
      "Confusion Matrix:\n",
      " [[126   4]\n",
      " [  1  37]]\n",
      "Model Diagnostics:               precision    recall  f1-score   support\n",
      "\n",
      "           0       0.99      0.97      0.98       130\n",
      "           1       0.90      0.97      0.94        38\n",
      "\n",
      "    accuracy                           0.97       168\n",
      "   macro avg       0.95      0.97      0.96       168\n",
      "weighted avg       0.97      0.97      0.97       168\n",
      "\n",
      "Accuracy: 0.9702380952380952\n"
     ]
    }
   ],
   "source": [
    "# Confusion Matrix - Gadient boosting + Regularization\n",
    "print(\"Confusion Matrix:\\n\",confusion_matrix(y_test, y_predGB1))\n",
    "print(\"Model Diagnostics:\",classification_report(y_test, y_predGB1))\n",
    "\n",
    "print(\"Accuracy:\", metrics.accuracy_score(y_test, y_predGB1))"
   ]
  },
  {
   "cell_type": "markdown",
   "metadata": {},
   "source": [
    "# METRIC ANALYSIS"
   ]
  },
  {
   "cell_type": "code",
   "execution_count": 266,
   "metadata": {},
   "outputs": [
    {
     "name": "stdout",
     "output_type": "stream",
     "text": [
      "The ROC curves of Random forest after selecting the parameters through Grid Search improve slightly. \n",
      "Similarly, the Precision Recall Curves perform mostly the same, with slight imrpovement after applying Grid Search. \n",
      "\n",
      "For Gradient Boosting, although the curves perform well, the curves improve after applying the parameters obtained from the Grid Search\n",
      "This happens with both, ROC curves and Precision curves. \n",
      "\n",
      "For Random Forest, the initial accuracy score is 95.23, which after applying the parameters from the GridSearch increases to 97.02.\n",
      "For Gradient Boosting, the initial accuracy score is 96.4, which increases to 97.02 after GridSearch, and further increases to 97.6 after regularization.\n",
      "\n",
      "This means that Grid Search parameters supply better hyperplanes to classify the data. Additionally, regularization adds a penalty that further increases the accuracy.\n",
      "\n",
      "In Random Forest,the Confusion Matrix shows that after GridSearch, the True Positives, increase from 123 to 126 and the False Positives decrease from 7 to 4.\n",
      "\n",
      "Whereas in Gradient Boosting, the Confusion MAtrix shows that after GridSearch, the True Positives increase by 1 and the False Positives decrease by 1.\n"
     ]
    }
   ],
   "source": [
    "a=(\"\"\"The ROC curves of Random forest after selecting the parameters through Grid Search improve slightly. \n",
    "Similarly, the Precision Recall Curves perform mostly the same, with slight imrpovement after applying Grid Search. \n",
    "\n",
    "For Gradient Boosting, although the curves perform well, the curves improve after applying the parameters obtained from the Grid Search\n",
    "This happens with both, ROC curves and Precision curves. \n",
    "\n",
    "For Random Forest, the initial accuracy score is 95.23, which after applying the parameters from the GridSearch increases to 97.02.\n",
    "For Gradient Boosting, the initial accuracy score is 96.4, which increases to 97.02 after GridSearch, and further increases to 97.6 after regularization.\n",
    "\n",
    "This means that Grid Search parameters supply better hyperplanes to classify the data. Additionally, regularization adds a penalty that further increases the accuracy.\n",
    "\n",
    "In Random Forest,the Confusion Matrix shows that after GridSearch, the True Positives, increase from 123 to 126 and the False Positives decrease from 7 to 4.\n",
    "\n",
    "Whereas in Gradient Boosting, the Confusion MAtrix shows that after GridSearch, the True Positives increase by 1 and the False Positives decrease by 1.\"\"\")\n",
    "\n",
    "print(a)"
   ]
  },
  {
   "cell_type": "code",
   "execution_count": 267,
   "metadata": {},
   "outputs": [
    {
     "name": "stdout",
     "output_type": "stream",
     "text": [
      "Accuracy: 0.9166666666666666\n",
      "RESULTS :The Random Forest model performs better before without applying PCA\n"
     ]
    }
   ],
   "source": [
    "# Comparing Performing After PCA\n",
    "\n",
    "from sklearn.preprocessing import StandardScaler\n",
    "\n",
    "sc = StandardScaler()\n",
    "x_train = sc.fit_transform(x_train)\n",
    "x_test = sc.transform(x_test)\n",
    "\n",
    "from sklearn.decomposition import PCA\n",
    "\n",
    "pca = PCA(n_components=2)\n",
    "x_train = pca.fit_transform(x_train)\n",
    "x_test = pca.transform(x_test)\n",
    "\n",
    "# Random Forest Model\n",
    "\n",
    "# Train model \n",
    "\n",
    "model.fit( x_train, y_train)\n",
    "\n",
    "y_pred = model.predict(x_test)\n",
    "print(\"Accuracy:\", metrics.accuracy_score(y_test, y_pred))\n",
    "\n",
    "print(\"RESULTS :The Random Forest model performs better before without applying PCA\")"
   ]
  },
  {
   "cell_type": "code",
   "execution_count": 268,
   "metadata": {},
   "outputs": [
    {
     "name": "stdout",
     "output_type": "stream",
     "text": [
      "Accuracy: 0.9166666666666666\n",
      "RESULTs: The Gradient Boosting model performs better before without applying PCA\n"
     ]
    }
   ],
   "source": [
    "# Gradient Boost Model\n",
    "\n",
    "#Train model\n",
    "\n",
    "Gradientmodel = ( x_train, y_train)\n",
    "y_predGB = model.predict(x_test)\n",
    "\n",
    "print(\"Accuracy:\", metrics.accuracy_score(y_test, y_predGB))\n",
    "\n",
    "print(\"RESULTs: The Gradient Boosting model performs better before without applying PCA\")\n"
   ]
  },
  {
   "cell_type": "markdown",
   "metadata": {},
   "source": [
    "# Stacked Model"
   ]
  },
  {
   "cell_type": "code",
   "execution_count": 244,
   "metadata": {},
   "outputs": [],
   "source": [
    "# Stacked Model\n",
    "\n",
    "from mlxtend.classifier import StackingClassifier\n",
    "import warnings\n",
    "from mlxtend.classifier import StackingCVClassifier\n",
    "warnings.simplefilter('ignore')"
   ]
  },
  {
   "cell_type": "code",
   "execution_count": 246,
   "metadata": {},
   "outputs": [],
   "source": [
    "clf1 = Gridmodel\n",
    "clf2 = GridmodelGB\n",
    "clf3 = GridmodelGB1\n",
    "\n",
    "sclf = StackingCVClassifier(classifiers = [clf1, clf2, clf3],\n",
    "                            shuffle = False,\n",
    "                            use_probas = True,\n",
    "                            cv = 5,\n",
    "                            meta_classifier = clf3)\n",
    "\n"
   ]
  },
  {
   "cell_type": "code",
   "execution_count": 248,
   "metadata": {},
   "outputs": [],
   "source": [
    "# Create list to store classifiers\n",
    "classifiers = {\"RandomF\": clf1,\n",
    "               \"GradientBoost\": clf2,\n",
    "               \"GB regularized\": clf3,\n",
    "               \"Stack\": sclf}"
   ]
  },
  {
   "cell_type": "code",
   "execution_count": 269,
   "metadata": {},
   "outputs": [
    {
     "name": "stdout",
     "output_type": "stream",
     "text": [
      "3-fold cross validation:\n",
      "\n",
      "Accuracy: 0.92 (+/- 0.01) [Random Forest]\n",
      "Accuracy: 0.91 (+/- 0.01) [Gradient Boosting]\n",
      "Accuracy: 0.91 (+/- 0.01) [Gradient Boosting Regularised]\n",
      "Accuracy: 0.90 (+/- 0.01) [StackingClassifier]\n"
     ]
    }
   ],
   "source": [
    "print('3-fold cross validation:\\n')\n",
    "from sklearn import model_selection\n",
    "for clf, label in zip([clf1, clf2, clf3, sclf], \n",
    "                      ['Random Forest', \n",
    "                       'Gradient Boosting', \n",
    "                       'Gradient Boosting Regularised',\n",
    "                       'StackingClassifier']):\n",
    "\n",
    "    scores = model_selection.cross_val_score(clf, x_train, y_train, \n",
    "                                              cv=3, scoring='accuracy')\n",
    "    print(\"Accuracy: %0.2f (+/- %0.2f) [%s]\" \n",
    "          % (scores.mean(), scores.std(), label))"
   ]
  },
  {
   "cell_type": "code",
   "execution_count": 271,
   "metadata": {},
   "outputs": [
    {
     "name": "stdout",
     "output_type": "stream",
     "text": [
      "In summary, The 3 fold Cross validation of all three models, generate a Stacked Classifier Accuracy of 0.90\n"
     ]
    }
   ],
   "source": [
    "print(\"In summary, The 3 fold Cross validation of all three models, generate a Stacked Classifier Accuracy of 0.90\")"
   ]
  },
  {
   "cell_type": "code",
   "execution_count": null,
   "metadata": {},
   "outputs": [],
   "source": []
  }
 ],
 "metadata": {
  "kernelspec": {
   "display_name": "Python 3.8.1 64-bit",
   "language": "python",
   "name": "python38164bitd4b58119ef6e4f6caba81e798f03239d"
  },
  "language_info": {
   "codemirror_mode": {
    "name": "ipython",
    "version": 3
   },
   "file_extension": ".py",
   "mimetype": "text/x-python",
   "name": "python",
   "nbconvert_exporter": "python",
   "pygments_lexer": "ipython3",
   "version": "3.8.1"
  }
 },
 "nbformat": 4,
 "nbformat_minor": 4
}
